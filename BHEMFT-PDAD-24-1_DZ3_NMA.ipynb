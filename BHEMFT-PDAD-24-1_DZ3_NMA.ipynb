{
 "cells": [
  {
   "cell_type": "markdown",
   "id": "e815e049-7549-4a0c-b437-416ebe78ac01",
   "metadata": {},
   "source": [
    "## Домашнее задание 3. Основы Git"
   ]
  },
  {
   "cell_type": "markdown",
   "id": "ea869107-7a7f-4e58-9806-ec5c01bf8d6c",
   "metadata": {},
   "source": [
    "## Задание\n",
    "Создайте репозиторий с произвольным названием. Добавьте в него любой файл с кодом и файл README.md с кратким описанием этого кода."
   ]
  },
  {
   "cell_type": "code",
   "execution_count": 1,
   "id": "0c7aecdf-b002-481f-bc50-706cf7387330",
   "metadata": {},
   "outputs": [],
   "source": [
    "# О студенте\n",
    "name = 'Назарова М. А.'\n",
    "group = 'BHEMFT-3'\n",
    "email = 'Imaryna42@gmail.com'"
   ]
  },
  {
   "cell_type": "code",
   "execution_count": 5,
   "id": "cde9314d-b03b-4510-bcc3-5ba1e98c1134",
   "metadata": {},
   "outputs": [
    {
     "name": "stdout",
     "output_type": "stream",
     "text": [
      "Hello world!\n",
      "Welcome to repository by Назарова М. А. from BHEMFT-3\n",
      "Email: Imaryna42@gmail.com\n",
      "Created 2024-09-16 14:54:19.571700\n"
     ]
    }
   ],
   "source": [
    "from datetime import datetime\n",
    "\n",
    "# Приветствие\n",
    "print('Hello world!')\n",
    "print('Welcome to repository by ' + name + ' from ' + group)\n",
    "print('Email: ' + email)\n",
    "print(f'Created {datetime.now()}')"
   ]
  }
 ],
 "metadata": {
  "kernelspec": {
   "display_name": "Python 3 (ipykernel)",
   "language": "python",
   "name": "python3"
  },
  "language_info": {
   "codemirror_mode": {
    "name": "ipython",
    "version": 3
   },
   "file_extension": ".py",
   "mimetype": "text/x-python",
   "name": "python",
   "nbconvert_exporter": "python",
   "pygments_lexer": "ipython3",
   "version": "3.12.4"
  }
 },
 "nbformat": 4,
 "nbformat_minor": 5
}
